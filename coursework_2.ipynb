{
 "cells": [
  {
   "cell_type": "markdown",
   "metadata": {},
   "source": [
    "# Coursework 2: Neural Networks \n",
    "\n",
    "### Alessandro Serena - as6316 - CID 01188591\n",
    "\n",
    "This coursework covers the topics covered in class regarding neural networks for image classification.\n",
    "\n",
    "This coursework includes both coding questions as well as written ones. Please upload the notebook, which contains your code, results and answers as a pdf file onto Cate.\n",
    "\n",
    "Dependencies: If you work on a college computer in the Computing Lab, where Ubuntu 18.04 is installed by default, you can use the following virtual environment for your work, where relevant Python packages are already installed.\n",
    "\n",
    "`source /vol/bitbucket/wbai/virt/computer_vision_ubuntu18.04/bin/activate`\n",
    "\n",
    "Alternatively, you can use pip, pip3 or anaconda etc to install Python packages.\n",
    "\n",
    "**Note 1:** please read the both the text and code comment in this notebook to get an idea what you are supposed to implement.\n",
    "\n",
    "**Note 2:** If you are using the virtual environment in the Computing Lab, please run the following command in the command line before opening jupyter-notebook and importing tensorflow. This will tell tensorflow where the Nvidia CUDA libariries are.\n",
    "\n",
    "`export LD_LIBRARY_PATH=/vol/cuda/9.0.176/lib64/:\"${LD_LIBRARY_PATH}}\"` "
   ]
  },
  {
   "cell_type": "code",
   "execution_count": 1,
   "metadata": {},
   "outputs": [
    {
     "name": "stderr",
     "output_type": "stream",
     "text": [
      "Using TensorFlow backend.\n"
     ]
    }
   ],
   "source": [
    "# Import libraries\n",
    "import numpy as np \n",
    "import matplotlib.pyplot as plt\n",
    "%matplotlib inline\n",
    "import tensorflow as tf \n",
    "import keras\n",
    "from keras.models import Sequential\n",
    "from keras.layers import Input,Dense, Dropout, Flatten\n",
    "import pydot\n",
    "import itertools\n",
    "import matplotlib.image as mpimg"
   ]
  },
  {
   "cell_type": "markdown",
   "metadata": {},
   "source": [
    "## Question 1 (20 points)\n",
    "\n",
    "Throughout this coursework you will be working with the Fashion-MNIST dataset. If you are interested, you may find relevant information regarding the dataset in this paper.\n",
    "\n",
    "[1] Fashion-MNIST: A novel image dataset for benchmarking machine learning algorithms. Han Xiao, Kashif Rasul, Roland Vollgraf. [arXiv:1708.07747](https://arxiv.org/abs/1708.07747)\n",
    "\n",
    "Be sure that you have the following files in your working directory: data.tar.gz and reader.py. Loading the data can be done as follows:\n",
    "\n",
    "`from reader import get_images\n",
    "(x_train, y_train), (x_test, y_test) = get_images()`\n",
    "\n",
    "The dataset is already split into a set of 60,000 training images and a set of 10,000 test images. The images are of size 28x28 pixels and stored as 784-D vector. So if you would like to visualise the images, you need to reshape the array.\n",
    "\n",
    "There are in total 10 label classes, which are:\n",
    "* 0: T-shirt/top\n",
    "* 1: Trousers\n",
    "* 2: Pullover\n",
    "* 3: Dress\n",
    "* 4: Coat\n",
    "* 5: Sandal\n",
    "* 6: Shirt\n",
    "* 7: Sneaker\n",
    "* 8: Bag\n",
    "* 9: Ankle boot"
   ]
  },
  {
   "cell_type": "markdown",
   "metadata": {},
   "source": [
    "### 1.1 Load data (6 points)\n",
    "Load the dataset and print the dimensions of the training set and the test set."
   ]
  },
  {
   "cell_type": "code",
   "execution_count": 3,
   "metadata": {},
   "outputs": [
    {
     "ename": "NameError",
     "evalue": "name 'y' is not defined",
     "output_type": "error",
     "traceback": [
      "\u001b[0;31m---------------------------------------------------------------------------\u001b[0m",
      "\u001b[0;31mNameError\u001b[0m                                 Traceback (most recent call last)",
      "\u001b[0;32m<ipython-input-3-b6f8ec1538b4>\u001b[0m in \u001b[0;36m<module>\u001b[0;34m\u001b[0m\n\u001b[1;32m      1\u001b[0m \u001b[0;32mfrom\u001b[0m \u001b[0mreader\u001b[0m \u001b[0;32mimport\u001b[0m \u001b[0mget_images\u001b[0m\u001b[0;34m\u001b[0m\u001b[0m\n\u001b[1;32m      2\u001b[0m \u001b[0;34m(\u001b[0m\u001b[0mx_train\u001b[0m\u001b[0;34m,\u001b[0m \u001b[0my_train\u001b[0m\u001b[0;34m)\u001b[0m\u001b[0;34m,\u001b[0m \u001b[0;34m(\u001b[0m\u001b[0mx_test\u001b[0m\u001b[0;34m,\u001b[0m \u001b[0my_test\u001b[0m\u001b[0;34m)\u001b[0m \u001b[0;34m=\u001b[0m \u001b[0mget_images\u001b[0m\u001b[0;34m(\u001b[0m\u001b[0;34m)\u001b[0m\u001b[0;34m\u001b[0m\u001b[0m\n\u001b[0;32m----> 3\u001b[0;31m \u001b[0mprint\u001b[0m\u001b[0;34m(\u001b[0m\u001b[0my\u001b[0m\u001b[0;34m,\u001b[0m \u001b[0mtest\u001b[0m\u001b[0;34m)\u001b[0m\u001b[0;34m\u001b[0m\u001b[0m\n\u001b[0m",
      "\u001b[0;31mNameError\u001b[0m: name 'y' is not defined"
     ]
    }
   ],
   "source": [
    "from reader import get_images\n",
    "(x_train, y_train), (x_test, y_test) = get_images()\n",
    "print(y, test)"
   ]
  },
  {
   "cell_type": "markdown",
   "metadata": {},
   "source": [
    "### 1.2 Visualize data (6 points)\n",
    "Visualise 3 training images (T-shirt, trousers and pullover) and 3 test images (dress, coat and sandal)."
   ]
  },
  {
   "cell_type": "code",
   "execution_count": 3,
   "metadata": {},
   "outputs": [
    {
     "data": {
      "image/png": "[encoded data removed]",
      "text/plain": [
       "<Figure size 432x288 with 6 Axes>"
      ]
     },
     "metadata": {
      "needs_background": "light"
     },
     "output_type": "display_data"
    }
   ],
   "source": [
    "indexList = [None,None,None]\n",
    "# copy first 20 elements of training labels \n",
    "tempList = []\n",
    "for i in range(20):\n",
    "    tempList.append(y_train[i])\n",
    "\n",
    "#find requested classes in labels\n",
    "indexList[0] = tempList.index(0)\n",
    "indexList[1] = tempList.index(1)\n",
    "indexList[2] = tempList.index(2)\n",
    "    \n",
    "# plot images from training data\n",
    "for index in indexList:\n",
    "    plt.subplot(2, 3, indexList.index(index)+1)\n",
    "    trainPlot = x_train[index].reshape(28,28)\n",
    "    plt.imshow(trainPlot, cmap='gray')\n",
    "    \n",
    "# ==========================================================\n",
    "\n",
    "indexList = [None,None,None]\n",
    "# copy first 20 elements of training labels \n",
    "tempList = []\n",
    "for i in range(20):\n",
    "    tempList.append(y_test[i])\n",
    "\n",
    "#find requested classes in labels\n",
    "indexList[0] = tempList.index(3)\n",
    "indexList[1] = tempList.index(4)\n",
    "indexList[2] = tempList.index(5)\n",
    "    \n",
    "# plot images from test data\n",
    "for index in indexList:\n",
    "    plt.subplot(2, 3, indexList.index(index)+4)\n",
    "    testPlot = x_test[index].reshape(28,28)\n",
    "    plt.imshow(testPlot, cmap='gray')"
   ]
  },
  {
   "cell_type": "markdown",
   "metadata": {},
   "source": [
    "### 1.3 Data balance (4 points)\n",
    "Print out the number of training samples for each class."
   ]
  },
  {
   "cell_type": "code",
   "execution_count": 4,
   "metadata": {},
   "outputs": [
    {
     "name": "stdout",
     "output_type": "stream",
     "text": [
      "The number of occurrences of each class in the training data are:\n",
      "[6000. 6000. 6000. 6000. 6000. 6000. 6000. 6000. 6000. 6000.]\n"
     ]
    }
   ],
   "source": [
    "# initialize array of (10) zeroes\n",
    "classCount = np.zeros(10)\n",
    "\n",
    "# iterate through y_train and count how many samples there are for each class\n",
    "for i in range(len(y_train)):\n",
    "    category = y_train[i]\n",
    "    classCount[category] += 1\n",
    "\n",
    "# print result\n",
    "print(\"The number of occurrences of each class in the training data are:\")\n",
    "print classCount"
   ]
  },
  {
   "cell_type": "markdown",
   "metadata": {},
   "source": [
    "### 1.4 Discussion (4 points)\n",
    "Is the dataset balanced? What would happen if the dataset is not balanced in the context of image classification? "
   ]
  },
  {
   "cell_type": "markdown",
   "metadata": {},
   "source": [
    "Since each class has the same number of training samples (6000 each) we can state that the dataset is balanced.\n",
    "If the dataset was not balenced, we would expect a biased model.\n",
    "In other words, the model would perform better at classifying images of a class with more training data and worse for those belonging to a class that it has seen less frequently during training. Moreover, the model might classify wrongly images from the class with less training data as belonging to the class more frequently encountered."
   ]
  },
  {
   "cell_type": "markdown",
   "metadata": {},
   "source": [
    "## Question 2 (40 points)\n",
    "\n",
    "Build a neural network and train it with the Fashion-MNIST dataset. Here, we use the keras library, which is a high-level neural network library built upon tensorflow."
   ]
  },
  {
   "cell_type": "code",
   "execution_count": 5,
   "metadata": {},
   "outputs": [
    {
     "name": "stdout",
     "output_type": "stream",
     "text": [
      "0\n",
      "[1. 0. 0. 0. 0. 0. 0. 0. 0. 0.]\n"
     ]
    }
   ],
   "source": [
    "# Convert the label class into a one-hot representation\n",
    "num_classes = 10\n",
    "\n",
    "print(y_train[1])\n",
    "\n",
    "y_train = keras.utils.to_categorical(y_train, num_classes)\n",
    "y_test = keras.utils.to_categorical(y_test, num_classes)\n",
    "\n",
    "print(y_train[1])"
   ]
  },
  {
   "cell_type": "markdown",
   "metadata": {},
   "source": [
    "### 2.1 Build a multi-layer perceptron, also known as multi-layer fully connected network. You need to define the layers, the loss function, the optimiser and evaluation metric. (30 points)"
   ]
  },
  {
   "cell_type": "code",
   "execution_count": 6,
   "metadata": {
    "scrolled": true
   },
   "outputs": [
    {
     "name": "stdout",
     "output_type": "stream",
     "text": [
      "_________________________________________________________________\n",
      "Layer (type)                 Output Shape              Param #   \n",
      "=================================================================\n",
      "dense_1 (Dense)              (None, 125)               98125     \n",
      "_________________________________________________________________\n",
      "dense_2 (Dense)              (None, 10)                1260      \n",
      "=================================================================\n",
      "Total params: 99,385\n",
      "Trainable params: 99,385\n",
      "Non-trainable params: 0\n",
      "_________________________________________________________________\n",
      "None\n"
     ]
    }
   ],
   "source": [
    "# MLP --> 784 x 400 x 150 x 50 x 10\n",
    "model = None\n",
    "model = keras.models.Sequential()\n",
    "# ------------------------------------\n",
    "# DEFINE LAYERS\n",
    "model.add(Dense(125, input_shape=(784,), activation=\"sigmoid\"))\n",
    "# output layer\n",
    "model.add(Dense(10, activation=\"softmax\"))\n",
    "# ------------------------------------\n",
    "# DEFINE TRAINING PARAMETERS\n",
    "model.compile(loss=\"categorical_crossentropy\", \n",
    "              optimizer=\"sgd\", \n",
    "              metrics=[\"accuracy\"])\n",
    "print(model.summary())"
   ]
  },
  {
   "cell_type": "markdown",
   "metadata": {},
   "source": [
    "### 2.2 Define the optimisation parameters including the batch size and the number of epochs and then run the optimiser. (10 points)\n",
    "\n",
    "We have tested that for an appropriate network architecture, on a personal laptop and with only CPU, it takes about a few seconds per epoch to train the network. For 100 epochs, it takes about a coffee break's time to finish the training. If you run it on a powerful GPU, it would be even much faster."
   ]
  },
  {
   "cell_type": "code",
   "execution_count": 7,
   "metadata": {
    "scrolled": true
   },
   "outputs": [
    {
     "name": "stdout",
     "output_type": "stream",
     "text": [
      "Epoch 1/100\n",
      "60000/60000 [==============================] - 7s 110us/step - loss: 1.3076 - acc: 0.6196\n",
      "Epoch 2/100\n",
      "60000/60000 [==============================] - 6s 106us/step - loss: 0.8345 - acc: 0.7515\n",
      "Epoch 3/100\n",
      "60000/60000 [==============================] - 6s 103us/step - loss: 0.7173 - acc: 0.7776\n",
      "Epoch 4/100\n",
      "60000/60000 [==============================] - 6s 106us/step - loss: 0.6517 - acc: 0.7932\n",
      "Epoch 5/100\n",
      "60000/60000 [==============================] - 6s 99us/step - loss: 0.6083 - acc: 0.8041\n",
      "Epoch 6/100\n",
      "60000/60000 [==============================] - 6s 97us/step - loss: 0.5799 - acc: 0.8099\n",
      "Epoch 7/100\n",
      "60000/60000 [==============================] - 6s 98us/step - loss: 0.5569 - acc: 0.8160\n",
      "Epoch 8/100\n",
      "60000/60000 [==============================] - 6s 97us/step - loss: 0.5364 - acc: 0.8209\n",
      "Epoch 9/100\n",
      "60000/60000 [==============================] - 6s 102us/step - loss: 0.5212 - acc: 0.8236\n",
      "Epoch 10/100\n",
      "60000/60000 [==============================] - 6s 104us/step - loss: 0.5108 - acc: 0.8261\n",
      "Epoch 11/100\n",
      "60000/60000 [==============================] - 6s 106us/step - loss: 0.4990 - acc: 0.8302\n",
      "Epoch 12/100\n",
      "60000/60000 [==============================] - 7s 117us/step - loss: 0.4890 - acc: 0.8317\n",
      "Epoch 13/100\n",
      "60000/60000 [==============================] - 6s 108us/step - loss: 0.4808 - acc: 0.8336\n",
      "Epoch 14/100\n",
      "60000/60000 [==============================] - 6s 104us/step - loss: 0.4729 - acc: 0.8367\n",
      "Epoch 15/100\n",
      "60000/60000 [==============================] - 6s 108us/step - loss: 0.4649 - acc: 0.8403\n",
      "Epoch 16/100\n",
      "60000/60000 [==============================] - 6s 102us/step - loss: 0.4591 - acc: 0.8417\n",
      "Epoch 17/100\n",
      "60000/60000 [==============================] - 7s 111us/step - loss: 0.4546 - acc: 0.8422\n",
      "Epoch 18/100\n",
      "60000/60000 [==============================] - 6s 105us/step - loss: 0.4492 - acc: 0.8440\n",
      "Epoch 19/100\n",
      "60000/60000 [==============================] - 6s 104us/step - loss: 0.4448 - acc: 0.8458\n",
      "Epoch 20/100\n",
      "60000/60000 [==============================] - 6s 108us/step - loss: 0.4436 - acc: 0.8454\n",
      "Epoch 21/100\n",
      "60000/60000 [==============================] - 7s 110us/step - loss: 0.4380 - acc: 0.8468\n",
      "Epoch 22/100\n",
      "60000/60000 [==============================] - 7s 111us/step - loss: 0.4332 - acc: 0.8488\n",
      "Epoch 23/100\n",
      "60000/60000 [==============================] - 6s 105us/step - loss: 0.4339 - acc: 0.8499\n",
      "Epoch 24/100\n",
      "60000/60000 [==============================] - 7s 117us/step - loss: 0.4295 - acc: 0.8506\n",
      "Epoch 25/100\n",
      "60000/60000 [==============================] - 7s 110us/step - loss: 0.4246 - acc: 0.8528\n",
      "Epoch 26/100\n",
      "60000/60000 [==============================] - 7s 115us/step - loss: 0.4189 - acc: 0.8535\n",
      "Epoch 27/100\n",
      "60000/60000 [==============================] - 7s 111us/step - loss: 0.4207 - acc: 0.8520\n",
      "Epoch 28/100\n",
      "60000/60000 [==============================] - 7s 111us/step - loss: 0.4152 - acc: 0.8556\n",
      "Epoch 29/100\n",
      "60000/60000 [==============================] - 7s 113us/step - loss: 0.4093 - acc: 0.8578\n",
      "Epoch 30/100\n",
      "60000/60000 [==============================] - 7s 109us/step - loss: 0.4056 - acc: 0.8577\n",
      "Epoch 31/100\n",
      "60000/60000 [==============================] - 7s 114us/step - loss: 0.4061 - acc: 0.8572\n",
      "Epoch 32/100\n",
      "60000/60000 [==============================] - 7s 112us/step - loss: 0.4073 - acc: 0.8584\n",
      "Epoch 33/100\n",
      "60000/60000 [==============================] - 6s 102us/step - loss: 0.4037 - acc: 0.8589\n",
      "Epoch 34/100\n",
      "60000/60000 [==============================] - 7s 111us/step - loss: 0.3987 - acc: 0.8609\n",
      "Epoch 35/100\n",
      "60000/60000 [==============================] - 6s 102us/step - loss: 0.3965 - acc: 0.8620\n",
      "Epoch 36/100\n",
      "60000/60000 [==============================] - 7s 111us/step - loss: 0.3903 - acc: 0.8630\n",
      "Epoch 37/100\n",
      "60000/60000 [==============================] - 7s 109us/step - loss: 0.3917 - acc: 0.8626\n",
      "Epoch 38/100\n",
      "60000/60000 [==============================] - 7s 109us/step - loss: 0.3949 - acc: 0.8616\n",
      "Epoch 39/100\n",
      "60000/60000 [==============================] - 6s 107us/step - loss: 0.3907 - acc: 0.8631\n",
      "Epoch 40/100\n",
      "60000/60000 [==============================] - 7s 112us/step - loss: 0.3866 - acc: 0.8641\n",
      "Epoch 41/100\n",
      "60000/60000 [==============================] - 7s 110us/step - loss: 0.3854 - acc: 0.8639\n",
      "Epoch 42/100\n",
      "60000/60000 [==============================] - 7s 112us/step - loss: 0.3852 - acc: 0.8646\n",
      "Epoch 43/100\n",
      "60000/60000 [==============================] - 7s 115us/step - loss: 0.3849 - acc: 0.8653\n",
      "Epoch 44/100\n",
      "60000/60000 [==============================] - 7s 117us/step - loss: 0.3852 - acc: 0.8652\n",
      "Epoch 45/100\n",
      "60000/60000 [==============================] - 7s 116us/step - loss: 0.3840 - acc: 0.8642\n",
      "Epoch 46/100\n",
      "60000/60000 [==============================] - 7s 112us/step - loss: 0.3835 - acc: 0.8649\n",
      "Epoch 47/100\n",
      "60000/60000 [==============================] - 7s 112us/step - loss: 0.3774 - acc: 0.8663\n",
      "Epoch 48/100\n",
      "60000/60000 [==============================] - 7s 109us/step - loss: 0.3807 - acc: 0.8655\n",
      "Epoch 49/100\n",
      "60000/60000 [==============================] - 7s 111us/step - loss: 0.3773 - acc: 0.8666\n",
      "Epoch 50/100\n",
      "60000/60000 [==============================] - 6s 108us/step - loss: 0.3731 - acc: 0.8680\n",
      "Epoch 51/100\n",
      "60000/60000 [==============================] - 7s 114us/step - loss: 0.3721 - acc: 0.8682\n",
      "Epoch 52/100\n",
      "60000/60000 [==============================] - 7s 113us/step - loss: 0.3667 - acc: 0.8714\n",
      "Epoch 53/100\n",
      "60000/60000 [==============================] - 7s 109us/step - loss: 0.3690 - acc: 0.8708\n",
      "Epoch 54/100\n",
      "60000/60000 [==============================] - 7s 111us/step - loss: 0.3654 - acc: 0.8723\n",
      "Epoch 55/100\n",
      "60000/60000 [==============================] - 6s 107us/step - loss: 0.3698 - acc: 0.8714\n",
      "Epoch 56/100\n",
      "60000/60000 [==============================] - 6s 108us/step - loss: 0.3710 - acc: 0.8701\n",
      "Epoch 57/100\n",
      "60000/60000 [==============================] - 7s 109us/step - loss: 0.3695 - acc: 0.8715\n",
      "Epoch 58/100\n",
      "60000/60000 [==============================] - 7s 116us/step - loss: 0.3691 - acc: 0.8707\n",
      "Epoch 59/100\n",
      "60000/60000 [==============================] - 7s 115us/step - loss: 0.3656 - acc: 0.8731\n",
      "Epoch 60/100\n",
      "60000/60000 [==============================] - 7s 111us/step - loss: 0.3687 - acc: 0.8709\n",
      "Epoch 61/100\n",
      "60000/60000 [==============================] - 7s 115us/step - loss: 0.3693 - acc: 0.8708\n",
      "Epoch 62/100\n",
      "60000/60000 [==============================] - 7s 116us/step - loss: 0.3630 - acc: 0.8712\n",
      "Epoch 63/100\n",
      "60000/60000 [==============================] - 7s 110us/step - loss: 0.3614 - acc: 0.8744\n",
      "Epoch 64/100\n",
      "60000/60000 [==============================] - 7s 116us/step - loss: 0.3604 - acc: 0.8728\n",
      "Epoch 65/100\n",
      "60000/60000 [==============================] - 7s 112us/step - loss: 0.3587 - acc: 0.8741\n",
      "Epoch 66/100\n",
      "60000/60000 [==============================] - 7s 119us/step - loss: 0.3614 - acc: 0.8725\n",
      "Epoch 67/100\n",
      "60000/60000 [==============================] - 7s 119us/step - loss: 0.3586 - acc: 0.8731\n",
      "Epoch 68/100\n",
      "60000/60000 [==============================] - 7s 116us/step - loss: 0.3580 - acc: 0.8734\n",
      "Epoch 69/100\n",
      "60000/60000 [==============================] - 6s 108us/step - loss: 0.3579 - acc: 0.8738\n",
      "Epoch 70/100\n",
      "60000/60000 [==============================] - 7s 111us/step - loss: 0.3629 - acc: 0.8737\n",
      "Epoch 71/100\n",
      "60000/60000 [==============================] - 6s 92us/step - loss: 0.3583 - acc: 0.8752\n",
      "Epoch 72/100\n",
      "60000/60000 [==============================] - 6s 102us/step - loss: 0.3561 - acc: 0.8753\n",
      "Epoch 73/100\n",
      "60000/60000 [==============================] - 7s 110us/step - loss: 0.3569 - acc: 0.8747\n",
      "Epoch 74/100\n",
      "60000/60000 [==============================] - 3s 57us/step - loss: 0.3643 - acc: 0.8729\n",
      "Epoch 75/100\n",
      "60000/60000 [==============================] - 4s 62us/step - loss: 0.3592 - acc: 0.8744\n",
      "Epoch 76/100\n",
      "60000/60000 [==============================] - 3s 48us/step - loss: 0.3549 - acc: 0.8759\n",
      "Epoch 77/100\n",
      "60000/60000 [==============================] - 5s 76us/step - loss: 0.3558 - acc: 0.8750\n",
      "Epoch 78/100\n",
      "60000/60000 [==============================] - 4s 61us/step - loss: 0.3587 - acc: 0.8739\n",
      "Epoch 79/100\n",
      "60000/60000 [==============================] - 2s 39us/step - loss: 0.3579 - acc: 0.8741\n",
      "Epoch 80/100\n",
      "60000/60000 [==============================] - 2s 37us/step - loss: 0.3549 - acc: 0.8742\n",
      "Epoch 81/100\n",
      "60000/60000 [==============================] - 3s 55us/step - loss: 0.3547 - acc: 0.8755\n",
      "Epoch 82/100\n",
      "60000/60000 [==============================] - 6s 104us/step - loss: 0.3515 - acc: 0.8756\n",
      "Epoch 83/100\n",
      "60000/60000 [==============================] - 6s 108us/step - loss: 0.3513 - acc: 0.8761\n",
      "Epoch 84/100\n",
      "60000/60000 [==============================] - 6s 103us/step - loss: 0.3529 - acc: 0.8749\n",
      "Epoch 85/100\n",
      "60000/60000 [==============================] - 7s 110us/step - loss: 0.3492 - acc: 0.8761\n",
      "Epoch 86/100\n",
      "60000/60000 [==============================] - 6s 99us/step - loss: 0.3499 - acc: 0.8768\n",
      "Epoch 87/100\n",
      "60000/60000 [==============================] - 6s 105us/step - loss: 0.3492 - acc: 0.8763\n",
      "Epoch 88/100\n",
      "60000/60000 [==============================] - 6s 106us/step - loss: 0.3496 - acc: 0.8773 0s - loss: 0.3482 - acc\n",
      "Epoch 89/100\n",
      "60000/60000 [==============================] - 7s 109us/step - loss: 0.3492 - acc: 0.8752\n",
      "Epoch 90/100\n",
      "60000/60000 [==============================] - 6s 107us/step - loss: 0.3467 - acc: 0.8777\n",
      "Epoch 91/100\n",
      "60000/60000 [==============================] - 6s 105us/step - loss: 0.3463 - acc: 0.8777\n",
      "Epoch 92/100\n",
      "60000/60000 [==============================] - 6s 107us/step - loss: 0.3438 - acc: 0.8779\n",
      "Epoch 93/100\n",
      "60000/60000 [==============================] - 7s 109us/step - loss: 0.3446 - acc: 0.8780\n",
      "Epoch 94/100\n",
      "60000/60000 [==============================] - 6s 106us/step - loss: 0.3435 - acc: 0.8793\n",
      "Epoch 95/100\n",
      "60000/60000 [==============================] - 6s 106us/step - loss: 0.3414 - acc: 0.8791\n",
      "Epoch 96/100\n",
      "60000/60000 [==============================] - 7s 108us/step - loss: 0.3497 - acc: 0.8765\n",
      "Epoch 97/100\n",
      "60000/60000 [==============================] - 6s 107us/step - loss: 0.3461 - acc: 0.8778\n",
      "Epoch 98/100\n",
      "60000/60000 [==============================] - 7s 111us/step - loss: 0.3457 - acc: 0.8793\n",
      "Epoch 99/100\n",
      "60000/60000 [==============================] - 7s 110us/step - loss: 0.3442 - acc: 0.8790\n",
      "Epoch 100/100\n",
      "60000/60000 [==============================] - 7s 116us/step - loss: 0.3468 - acc: 0.8768\n"
     ]
    },
    {
     "data": {
      "text/plain": [
       "<keras.callbacks.History at 0x7f66ce1c5e50>"
      ]
     },
     "execution_count": 7,
     "metadata": {},
     "output_type": "execute_result"
    }
   ],
   "source": [
    "batch_size = 300\n",
    "epochs = 100\n",
    "model.fit(x_train, y_train, batch_size, epochs)"
   ]
  },
  {
   "cell_type": "markdown",
   "metadata": {},
   "source": [
    "## Question 3 (20 points) \n",
    "\n",
    "Evaluate the performance of your network with the test data. \n",
    "Visualize the performance using appropriate metrics and graphs (eg. confusion matrix). \n",
    "Comment on your per class performance and how it could be better."
   ]
  },
  {
   "cell_type": "code",
   "execution_count": 8,
   "metadata": {},
   "outputs": [],
   "source": [
    "# This function is provided for you to display the confusion matrix.\n",
    "# For more information about the confusion matrix, you can read at\n",
    "# https://en.wikipedia.org/wiki/Confusion_matrix\n",
    "def plot_confusion_matrix(cm, classes, normalize=False, title='Confusion matrix', cmap=plt.cm.Blues):\n",
    "    \"\"\"\n",
    "        This function prints and plots the confusion matrix.\n",
    "        \n",
    "        cm: confusion matrix, default to be np.int32 data type\n",
    "        classes: a list of the class labels or class names\n",
    "        normalize: normalize the matrix so that each row amounts to one\n",
    "        cmap: color map\n",
    "    \"\"\"\n",
    "    if normalize:\n",
    "        cm = cm.astype('float') / cm.sum(axis=1)[:, np.newaxis]\n",
    "        print(\"Normalized confusion matrix\")\n",
    "    else:\n",
    "        print('Confusion matrix, without normalization')\n",
    "    print(cm)\n",
    "\n",
    "    plt.imshow(cm, interpolation='nearest', cmap=cmap)\n",
    "    plt.title(title)\n",
    "    plt.colorbar()\n",
    "    tick_marks = np.arange(len(classes))\n",
    "    plt.xticks(tick_marks, classes, rotation=45)\n",
    "    plt.yticks(tick_marks, classes)\n",
    "\n",
    "    fmt = '.2f' if normalize else '.0f'\n",
    "    thresh = cm.max() / 2.\n",
    "    for i, j in itertools.product(range(cm.shape[0]), range(cm.shape[1])):\n",
    "        plt.text(j, i, format(cm[i, j], fmt),\n",
    "                 horizontalalignment=\"center\",\n",
    "                 color=\"white\" if cm[i, j] > thresh else \"black\")\n",
    "    plt.ylabel('True label')\n",
    "    plt.xlabel('Predicted label')\n",
    "    plt.tight_layout()"
   ]
  },
  {
   "cell_type": "markdown",
   "metadata": {},
   "source": [
    "### 3.1 Evaluate the classification accuracy on the test set (10 points)"
   ]
  },
  {
   "cell_type": "code",
   "execution_count": 9,
   "metadata": {},
   "outputs": [
    {
     "name": "stdout",
     "output_type": "stream",
     "text": [
      "10000/10000 [==============================] - 1s 103us/step\n",
      "Test loss    :  0.41214703214168547\n",
      "Test accuracy:  85.50999999999999 %\n"
     ]
    }
   ],
   "source": [
    "score = model.evaluate(x_test, y_test)\n",
    "print \"Test loss    : \", score[0]\n",
    "print \"Test accuracy: \", score[1]*100, \"%\""
   ]
  },
  {
   "cell_type": "markdown",
   "metadata": {},
   "source": [
    "### 3.2 Calculate and plot the confusion matrix (10 points)"
   ]
  },
  {
   "cell_type": "code",
   "execution_count": 13,
   "metadata": {
    "scrolled": false
   },
   "outputs": [
    {
     "name": "stdout",
     "output_type": "stream",
     "text": [
      "Normalized confusion matrix\n",
      "[[8.07920792e-01 4.95049505e-03 1.48514851e-02 2.77227723e-02\n",
      "  0.00000000e+00 9.90099010e-04 1.40594059e-01 0.00000000e+00\n",
      "  2.97029703e-03 0.00000000e+00]\n",
      " [2.08333333e-03 9.83333333e-01 1.04166667e-03 1.04166667e-02\n",
      "  0.00000000e+00 0.00000000e+00 2.08333333e-03 0.00000000e+00\n",
      "  1.04166667e-03 0.00000000e+00]\n",
      " [1.62835249e-02 9.57854406e-03 7.35632184e-01 1.24521073e-02\n",
      "  1.15900383e-01 0.00000000e+00 1.04406130e-01 0.00000000e+00\n",
      "  5.74712644e-03 0.00000000e+00]\n",
      " [4.03846154e-02 3.07692308e-02 1.63461538e-02 8.42307692e-01\n",
      "  2.88461538e-02 1.92307692e-03 3.36538462e-02 0.00000000e+00\n",
      "  5.76923077e-03 0.00000000e+00]\n",
      " [2.91545190e-03 3.88726919e-03 1.10787172e-01 3.59572400e-02\n",
      "  7.50242954e-01 0.00000000e+00 9.13508260e-02 0.00000000e+00\n",
      "  4.85908649e-03 0.00000000e+00]\n",
      " [1.05485232e-03 0.00000000e+00 1.05485232e-03 1.05485232e-03\n",
      "  0.00000000e+00 9.65189873e-01 0.00000000e+00 2.32067511e-02\n",
      "  2.10970464e-03 6.32911392e-03]\n",
      " [1.17977528e-01 3.37078652e-03 8.65168539e-02 3.59550562e-02\n",
      "  8.08988764e-02 0.00000000e+00 6.67415730e-01 0.00000000e+00\n",
      "  7.86516854e-03 0.00000000e+00]\n",
      " [0.00000000e+00 0.00000000e+00 0.00000000e+00 0.00000000e+00\n",
      "  0.00000000e+00 4.05797101e-02 0.00000000e+00 9.15942029e-01\n",
      "  3.86473430e-03 3.96135266e-02]\n",
      " [1.26213592e-02 1.94174757e-03 6.79611650e-03 2.91262136e-03\n",
      "  4.85436893e-03 7.76699029e-03 2.33009709e-02 9.70873786e-04\n",
      "  9.37864078e-01 9.70873786e-04]\n",
      " [9.86193294e-04 0.00000000e+00 0.00000000e+00 0.00000000e+00\n",
      "  0.00000000e+00 3.15581854e-02 0.00000000e+00 2.85996055e-02\n",
      "  0.00000000e+00 9.38856016e-01]]\n"
     ]
    },
    {
     "data": {
      "image/png": "[encoded data removed]",
      "text/plain": [
       "<Figure size 432x288 with 2 Axes>"
      ]
     },
     "metadata": {
      "needs_background": "light"
     },
     "output_type": "display_data"
    }
   ],
   "source": [
    "# Get predictions on test data\n",
    "predictions = model.predict(x_test)\n",
    "predictions.tolist()\n",
    "y_true = y_test.tolist()\n",
    "\n",
    "# Turn prediction into a 1-hot encoded array\n",
    "for i in range(len(predictions)):\n",
    "    maxVal = max(predictions[i])\n",
    "    for j in range(len(predictions[i])):\n",
    "        if (predictions[i][j] < maxVal):\n",
    "            predictions[i][j] = 0\n",
    "        else:\n",
    "            predictions[i][j] = 1\n",
    "\n",
    "#Get CM data\n",
    "cm = np.zeros((10,10))\n",
    "for i in range(len(y_true)):\n",
    "    classPredicted = np.where(predictions[i] == 1)[0][0]\n",
    "    classTrue = np.where(y_test[i] == 1)[0][0]\n",
    "    assert(classPredicted in range(10))\n",
    "    assert(classTrue in range(10))\n",
    "    cm[classPredicted][classTrue] += 1\n",
    "\n",
    "#Plot CM\n",
    "classes = [\"T-shirt\",\"Trousers\",\"Pullover\",\"Dress\",\"Coat\",\"Sandal\",\"Shirt\",\"Sneaker\",\"Bag\",\"Ankle boot\"]\n",
    "plot_confusion_matrix(cm, classes, normalize=True)\n"
   ]
  },
  {
   "cell_type": "markdown",
   "metadata": {},
   "source": [
    "### Comment on your per class performance and how it could be better."
   ]
  },
  {
   "cell_type": "markdown",
   "metadata": {},
   "source": [
    "As we can see from the Confusion Matrix above, the model is in general working correctly. Objects are well classified, especially those belonging to classes that cannot be easily mistaken with others (i.e. trousers, sandals, sneakers, bags, ankle boots). Because they have very specific shapes and figures, the model correctly identifies them with more than 90% of accuracy.\n",
    "\n",
    "Other classes, such as t-shirts, pullovers, coats and shirt, have a mjuch more similar shape (chest-like) and they are sometimes mistaken one for the other. In particular we can note that long-sleeved garments are more likely to be mistaken for another long-sleeved piece of clothing.\n",
    "By looking at the Confusion Matrix we note they all score between 67% and 84%.\n",
    "\n",
    "The model could be better if we trained it with more samples belonging to the lower-scoring classes. "
   ]
  },
  {
   "cell_type": "markdown",
   "metadata": {},
   "source": [
    "## Question 4 (20 points)\n",
    "Take two photos, one of your clothes or shoes that belongs to one of 10 classes, the other that does not belong to any class.\n",
    "\n",
    "Use either Python or other software (Photoshop, Gimp, or any image editer) to convert the photos into grayscale, crop the region of interest and reshape into the size of 28x28.\n",
    "\n",
    "### 4.1 Load and visualise your own images (6 points)"
   ]
  },
  {
   "cell_type": "code",
   "execution_count": 11,
   "metadata": {},
   "outputs": [
    {
     "data": {
      "image/png": "[encoded data removed]",
      "text/plain": [
       "<Figure size 432x288 with 2 Axes>"
      ]
     },
     "metadata": {
      "needs_background": "light"
     },
     "output_type": "display_data"
    }
   ],
   "source": [
    "plt.subplot(1,2,1)\n",
    "img=mpimg.imread('shoe_lowRes.jpg')\n",
    "imgplot = plt.imshow(img, cmap=\"gray\")\n",
    "plt.subplot(1,2,2)\n",
    "img2=mpimg.imread('longSleeved_tshirt_lowRes.jpg')\n",
    "imgplot2 = plt.imshow(img2, cmap=\"gray\")\n",
    "plt.show()"
   ]
  },
  {
   "cell_type": "markdown",
   "metadata": {},
   "source": [
    "### 4.2 Test your network on the two images and show the classification results (10 points)"
   ]
  },
  {
   "cell_type": "code",
   "execution_count": 12,
   "metadata": {},
   "outputs": [
    {
     "name": "stdout",
     "output_type": "stream",
     "text": [
      "[[0. 0. 0. 0. 0. 0. 0. 0. 1. 0.]\n",
      " [0. 0. 0. 0. 0. 0. 0. 0. 1. 0.]]\n"
     ]
    }
   ],
   "source": [
    "from PIL import Image\n",
    "\n",
    "# function for extracting pixel values from image\n",
    "def getPixels(fileName):\n",
    "    im = Image.open(fileName)\n",
    "    im.convert('L')\n",
    "    data = []\n",
    "    for row in range(28):\n",
    "        for col in range(28):\n",
    "            r = im.getpixel((col, row))\n",
    "            if type(r) is not int:\n",
    "                data.append(r[0])\n",
    "            else:\n",
    "                data.append(r)\n",
    "    return data\n",
    "\n",
    "#Get array-like data from images\n",
    "shoeData = getPixels(\"shoe_lowRes.jpg\")\n",
    "LSTshirtData = getPixels(\"longSleeved_tshirt_lowRes.jpg\")\n",
    "x_customTest = np.array([shoeData, LSTshirtData])\n",
    "\n",
    "predictions = []\n",
    "# Evaluate model performance\n",
    "predictions = model.predict(x_customTest)\n",
    "\n",
    "# Turn prediction into a 1-hot encoded array\n",
    "for i in range(len(predictions)):\n",
    "    maxVal = max(predictions[i])\n",
    "    for j in range(len(predictions[i])):\n",
    "        if (predictions[i][j] < maxVal):\n",
    "            predictions[i][j] = 0\n",
    "        else:\n",
    "            predictions[i][j] = 1\n",
    "print predictions"
   ]
  },
  {
   "cell_type": "markdown",
   "metadata": {},
   "source": [
    "### 4.3 Discuss the classification results and provide one method to improve real life performance of the network (4 points)"
   ]
  },
  {
   "cell_type": "markdown",
   "metadata": {},
   "source": [
    "As we can see from the output above, our two sample images get classified wrongly (both as bags in this case).\n",
    "This is caused by the way the model has been trained. In facts, only Fashion-MNIST data has been used in the training phase and this makes the model very effective when classifying the same type of images (plain black background and sharp edges), as in the testing phase.\n",
    "When, on the other hand, we try to use different images (as the ones above) the result is negative because the model has never encountered images that have similar characteristics to those two.\n",
    "\n",
    "An approach to improve real life performace of this classifying model is to train it with different data, outside of the Fashion-MNIST database.\n"
   ]
  },
  {
   "cell_type": "markdown",
   "metadata": {},
   "source": [
    "## 5. Survey\n",
    "How long did the coursework take you to solve? "
   ]
  },
  {
   "cell_type": "markdown",
   "metadata": {},
   "source": []
  },
  {
   "cell_type": "markdown",
   "metadata": {},
   "source": [
    "6 hours"
   ]
  },
  {
   "cell_type": "code",
   "execution_count": null,
   "metadata": {},
   "outputs": [],
   "source": []
  }
 ],
 "metadata": {
  "kernelspec": {
   "display_name": "Python 3",
   "language": "python",
   "name": "python3"
  },
  "language_info": {
   "codemirror_mode": {
    "name": "ipython",
    "version": 3
   },
   "file_extension": ".py",
   "mimetype": "text/x-python",
   "name": "python",
   "nbconvert_exporter": "python",
   "pygments_lexer": "ipython3",
   "version": "3.5.2"
  }
 },
 "nbformat": 4,
 "nbformat_minor": 2
}
